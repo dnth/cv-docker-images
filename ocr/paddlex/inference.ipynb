{
 "cells": [
  {
   "cell_type": "code",
   "execution_count": 1,
   "metadata": {},
   "outputs": [
    {
     "name": "stderr",
     "output_type": "stream",
     "text": [
      "\u001b[32mUsing official model (PP-OCRv4_mobile_det), the model files will be be automatically downloaded and saved in /home/dnth/.paddlex/official_models.\u001b[0m\n",
      "\u001b[32mUsing official model (PP-OCRv4_mobile_rec), the model files will be be automatically downloaded and saved in /home/dnth/.paddlex/official_models.\u001b[0m\n"
     ]
    }
   ],
   "source": [
    "from paddlex import create_pipeline\n",
    "\n",
    "pipeline = create_pipeline(pipeline=\"OCR\", device=\"cpu\")"
   ]
  },
  {
   "cell_type": "code",
   "execution_count": 2,
   "metadata": {},
   "outputs": [
    {
     "name": "stdout",
     "output_type": "stream",
     "text": [
      "CPU times: user 3 μs, sys: 1e+03 ns, total: 4 μs\n",
      "Wall time: 6.2 μs\n"
     ]
    }
   ],
   "source": [
    "%%time\n",
    "output = pipeline.predict(\n",
    "    [\n",
    "        \"../test_images/test_image_1.jpg\"\n",
    "    ]\n",
    ")"
   ]
  },
  {
   "cell_type": "code",
   "execution_count": 3,
   "metadata": {},
   "outputs": [
    {
     "name": "stderr",
     "output_type": "stream",
     "text": [
      "\u001b[32m{'input_path': '../test_images/test_image_1.jpg', 'dt_polys': [array([[ 55,  15],\n",
      "       [290,  23],\n",
      "       [289,  64],\n",
      "       [ 54,  56]], dtype=int16), array([[ 80,  62],\n",
      "       [273,  62],\n",
      "       [273,  89],\n",
      "       [ 80,  89]], dtype=int16), array([[ 83,  91],\n",
      "       [248,  93],\n",
      "       [247, 121],\n",
      "       [ 83, 119]], dtype=int16), array([[139, 451],\n",
      "       [318, 452],\n",
      "       [318, 469],\n",
      "       [139, 468]], dtype=int16)], 'dt_scores': [0.6902914762711794, 0.7520954994532467, 0.8216055057240508, 0.8423698163592062], 'rec_text': ['MEXICO', 'THEBFALITEULL', 'COOKBOO', 'FROMTHEREGIONSSF MEXICO'], 'rec_score': [0.9478585124015808, 0.8117069602012634, 0.7447413206100464, 0.920335590839386]}\u001b[0m\n",
      "\u001b[32mThe result has been saved in output/test_image_1.jpg.\u001b[0m\n",
      "\u001b[32mThe result has been saved in output/test_image_1.json.\u001b[0m\n"
     ]
    }
   ],
   "source": [
    "for res in output:\n",
    "    res.print()\n",
    "    res.save_to_img(\"./output/\")\n",
    "    res.save_to_json(\"./output/\")"
   ]
  },
  {
   "cell_type": "code",
   "execution_count": null,
   "metadata": {},
   "outputs": [],
   "source": []
  }
 ],
 "metadata": {
  "kernelspec": {
   "display_name": "paddlex",
   "language": "python",
   "name": "python3"
  },
  "language_info": {
   "codemirror_mode": {
    "name": "ipython",
    "version": 3
   },
   "file_extension": ".py",
   "mimetype": "text/x-python",
   "name": "python",
   "nbconvert_exporter": "python",
   "pygments_lexer": "ipython3",
   "version": "3.10.15"
  }
 },
 "nbformat": 4,
 "nbformat_minor": 2
}
